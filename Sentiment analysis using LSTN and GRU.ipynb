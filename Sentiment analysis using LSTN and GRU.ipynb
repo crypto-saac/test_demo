{
  "cells": [
    {
      "cell_type": "markdown",
      "metadata": {
        "id": "view-in-github",
        "colab_type": "text"
      },
      "source": [
        "<a href=\"https://colab.research.google.com/github/crypto-saac/test_demo/blob/master/Sentiment%20analysis%20using%20LSTN%20and%20GRU.ipynb\" target=\"_parent\"><img src=\"https://colab.research.google.com/assets/colab-badge.svg\" alt=\"Open In Colab\"/></a>"
      ]
    },
    {
      "cell_type": "markdown",
      "source": [
        "217022615 Sakhile Ngcobo\n",
        "\n"
      ],
      "metadata": {
        "id": "ioV4ecKyL3fN"
      }
    },
    {
      "cell_type": "code",
      "execution_count": 43,
      "metadata": {
        "colab": {
          "base_uri": "https://localhost:8080/"
        },
        "id": "e3jbfSlpc6N5",
        "outputId": "824acbb1-9a57-4673-a458-cda9adf37365"
      },
      "outputs": [
        {
          "output_type": "stream",
          "name": "stdout",
          "text": [
            "Drive already mounted at /content/drive; to attempt to forcibly remount, call drive.mount(\"/content/drive\", force_remount=True).\n"
          ]
        }
      ],
      "source": [
        "from google.colab import drive\n",
        "drive.mount('/content/drive')"
      ]
    },
    {
      "cell_type": "code",
      "execution_count": 44,
      "metadata": {
        "id": "UZFmvkkqdVdp"
      },
      "outputs": [],
      "source": [
        "import pandas as pd\n",
        "import numpy as np\n",
        "import re\n",
        "import collections\n",
        "import matplotlib.pyplot as plt\n",
        "from pathlib import Path\n",
        "from sklearn.model_selection import train_test_split\n",
        "from nltk.corpus import stopwords\n",
        "from keras.preprocessing.text import Tokenizer\n",
        "from keras.utils.np_utils import to_categorical\n",
        "from tensorflow.keras.optimizers import Adam\n",
        "from tensorflow.keras.callbacks import ReduceLROnPlateau\n",
        "from tensorflow.keras.preprocessing.sequence import pad_sequences\n",
        "from tensorflow.keras.layers import Conv1D, Bidirectional, LSTM, Dense, Input, Dropout\n",
        "from tensorflow.keras.layers import SpatialDropout1D\n",
        "from tensorflow.keras.callbacks import ModelCheckpoint\n",
        "from sklearn.preprocessing import LabelEncoder\n",
        "from keras import models\n",
        "from keras import layers\n",
        "from numpy import array\n",
        "from keras.preprocessing.text import one_hot\n",
        "from keras.models import Sequential\n",
        "from keras.layers.core import Activation, Dropout, Dense\n",
        "from keras.layers import Flatten, LSTM\n",
        "from keras.layers import GlobalMaxPooling1D\n",
        "from keras.models import Model\n",
        "\n",
        "from IPython.display import SVG\n",
        "#from keras.layers.vis_utils import model_to_dot\n"
      ]
    },
    {
      "cell_type": "markdown",
      "source": [
        "Reading the dataset which will be used "
      ],
      "metadata": {
        "id": "j3xwZTgqIdP-"
      }
    },
    {
      "cell_type": "code",
      "execution_count": 45,
      "metadata": {
        "id": "yTz3C01VdbMA"
      },
      "outputs": [],
      "source": [
        "filePath='/content/drive/MyDrive/training.1600000.processed.noemoticon.csv'\n",
        "columns = [\"target\", \"ids\", \"date\", \"flag\", \"user\", \"text\"]\n",
        "df = pd.read_csv(filePath, header=0,encoding='latin-1', names=columns)\n",
        "\n"
      ]
    },
    {
      "cell_type": "code",
      "execution_count": 46,
      "metadata": {
        "colab": {
          "base_uri": "https://localhost:8080/"
        },
        "id": "CTW9VfAenWcB",
        "outputId": "97a1ea4f-3b6b-4571-f23d-7707b51f5ae8"
      },
      "outputs": [
        {
          "output_type": "stream",
          "name": "stdout",
          "text": [
            "0          0\n",
            "1          0\n",
            "2          0\n",
            "3          0\n",
            "4          0\n",
            "          ..\n",
            "1599994    4\n",
            "1599995    4\n",
            "1599996    4\n",
            "1599997    4\n",
            "1599998    4\n",
            "Name: target, Length: 1599999, dtype: int64\n"
          ]
        }
      ],
      "source": [
        "print(df['target'])"
      ]
    },
    {
      "cell_type": "markdown",
      "source": [
        "Classification of sentiment O is Negative and 4 is Positive\n"
      ],
      "metadata": {
        "id": "jgvgBAP4Iqf9"
      }
    },
    {
      "cell_type": "code",
      "execution_count": 47,
      "metadata": {
        "colab": {
          "base_uri": "https://localhost:8080/"
        },
        "id": "icv7f_kLojgD",
        "outputId": "08339860-0de4-4c15-c010-77c61bac94e4"
      },
      "outputs": [
        {
          "output_type": "execute_result",
          "data": {
            "text/plain": [
              "0          0\n",
              "1          0\n",
              "2          0\n",
              "3          0\n",
              "4          0\n",
              "          ..\n",
              "1599994    4\n",
              "1599995    4\n",
              "1599996    4\n",
              "1599997    4\n",
              "1599998    4\n",
              "Name: target, Length: 1599999, dtype: int64"
            ]
          },
          "metadata": {},
          "execution_count": 47
        }
      ],
      "source": [
        "tmp_store = df[['target', 'text']]\n",
        "tmp_store['target'].unique()\n",
        "class_dict = {'\"0\"': 'negative', '\"4\"': 'positive'}\n",
        "labels = tmp_store['target']\n",
        "tmp_store.target\n",
        "\n"
      ]
    },
    {
      "cell_type": "markdown",
      "source": [
        "**Data cleaning involving removal of unwanted symbols and punctuation marks**"
      ],
      "metadata": {
        "id": "yOzL_0q5I47e"
      }
    },
    {
      "cell_type": "code",
      "source": [
        "import re\n",
        "import string\n",
        "import nltk\n",
        "from nltk.corpus import stopwords\n",
        "from nltk.stem import SnowballStemmer\n",
        "\n",
        "nltk.download('stopwords')\n",
        "s_words = set(stopwords.words('english'))\n",
        "snow_stemmer = SnowballStemmer(\"english\")\n",
        "\n",
        "def preprocess_text(text):\n",
        "    # Convert text to lowercase\n",
        "    text = text.lower()\n",
        "\n",
        "    # Remove URLs and HTML tags\n",
        "    text = re.sub(r'https?://\\S+|www\\.\\S+|<.*?>', '', text)\n",
        "\n",
        "    # Remove punctuation\n",
        "    text = text.translate(str.maketrans('', '', string.punctuation))\n",
        "\n",
        "    # Remove digits\n",
        "    text = re.sub(r'\\w*\\d\\w*', '', text)\n",
        "\n",
        "    # Remove stop words\n",
        "    text = ' '.join(word for word in text.split() if word not in s_words)\n",
        "\n",
        "    # Stem words\n",
        "    text = ' '.join(snow_stemmer.stem(word) for word in text.split())\n",
        "\n",
        "    return text\n",
        "\n",
        "# Apply preprocessing function to 'text' column of 'tmp_store' dataframe\n",
        "tmp_store['text'] = tmp_store['text'].apply(preprocess_text)\n",
        "\n",
        "# Show first few rows of preprocessed 'tmp_store' dataframe\n",
        "print(tmp_store.head())\n"
      ],
      "metadata": {
        "colab": {
          "base_uri": "https://localhost:8080/"
        },
        "id": "mH30cK3UWK5n",
        "outputId": "311db676-791b-4284-a45d-2c4cd8bf96e0"
      },
      "execution_count": 48,
      "outputs": [
        {
          "output_type": "stream",
          "name": "stderr",
          "text": [
            "[nltk_data] Downloading package stopwords to /root/nltk_data...\n",
            "[nltk_data]   Package stopwords is already up-to-date!\n"
          ]
        },
        {
          "output_type": "stream",
          "name": "stdout",
          "text": [
            "   target                                               text\n",
            "0       0  upset cant updat facebook text might cri resul...\n",
            "1       0  kenichan dive mani time ball manag save rest g...\n",
            "2       0                    whole bodi feel itchi like fire\n",
            "3       0              nationwideclass behav im mad cant see\n",
            "4       0                                kwesidei whole crew\n"
          ]
        },
        {
          "output_type": "stream",
          "name": "stderr",
          "text": [
            "<ipython-input-48-aa3fd2e85d38>:33: SettingWithCopyWarning: \n",
            "A value is trying to be set on a copy of a slice from a DataFrame.\n",
            "Try using .loc[row_indexer,col_indexer] = value instead\n",
            "\n",
            "See the caveats in the documentation: https://pandas.pydata.org/pandas-docs/stable/user_guide/indexing.html#returning-a-view-versus-a-copy\n",
            "  tmp_store['text'] = tmp_store['text'].apply(preprocess_text)\n"
          ]
        }
      ]
    },
    {
      "cell_type": "code",
      "execution_count": 49,
      "metadata": {
        "colab": {
          "base_uri": "https://localhost:8080/",
          "height": 310
        },
        "id": "9Cvj7B98knvM",
        "outputId": "846310f9-b584-4e82-b8db-7f64ec11763a"
      },
      "outputs": [
        {
          "output_type": "stream",
          "name": "stderr",
          "text": [
            "<ipython-input-49-3fcb8b18c93a>:4: SettingWithCopyWarning: \n",
            "A value is trying to be set on a copy of a slice from a DataFrame.\n",
            "Try using .loc[row_indexer,col_indexer] = value instead\n",
            "\n",
            "See the caveats in the documentation: https://pandas.pydata.org/pandas-docs/stable/user_guide/indexing.html#returning-a-view-versus-a-copy\n",
            "  tmp_store['target'] = a.transform(tmp_store['target'])\n"
          ]
        },
        {
          "output_type": "execute_result",
          "data": {
            "text/plain": [
              "   target                                               text\n",
              "0       0  upset cant updat facebook text might cri resul...\n",
              "1       0  kenichan dive mani time ball manag save rest g...\n",
              "2       0                    whole bodi feel itchi like fire\n",
              "3       0              nationwideclass behav im mad cant see\n",
              "4       0                                kwesidei whole crew"
            ],
            "text/html": [
              "\n",
              "  <div id=\"df-f0d86f13-1d3e-40a6-bd5e-f043195387df\">\n",
              "    <div class=\"colab-df-container\">\n",
              "      <div>\n",
              "<style scoped>\n",
              "    .dataframe tbody tr th:only-of-type {\n",
              "        vertical-align: middle;\n",
              "    }\n",
              "\n",
              "    .dataframe tbody tr th {\n",
              "        vertical-align: top;\n",
              "    }\n",
              "\n",
              "    .dataframe thead th {\n",
              "        text-align: right;\n",
              "    }\n",
              "</style>\n",
              "<table border=\"1\" class=\"dataframe\">\n",
              "  <thead>\n",
              "    <tr style=\"text-align: right;\">\n",
              "      <th></th>\n",
              "      <th>target</th>\n",
              "      <th>text</th>\n",
              "    </tr>\n",
              "  </thead>\n",
              "  <tbody>\n",
              "    <tr>\n",
              "      <th>0</th>\n",
              "      <td>0</td>\n",
              "      <td>upset cant updat facebook text might cri resul...</td>\n",
              "    </tr>\n",
              "    <tr>\n",
              "      <th>1</th>\n",
              "      <td>0</td>\n",
              "      <td>kenichan dive mani time ball manag save rest g...</td>\n",
              "    </tr>\n",
              "    <tr>\n",
              "      <th>2</th>\n",
              "      <td>0</td>\n",
              "      <td>whole bodi feel itchi like fire</td>\n",
              "    </tr>\n",
              "    <tr>\n",
              "      <th>3</th>\n",
              "      <td>0</td>\n",
              "      <td>nationwideclass behav im mad cant see</td>\n",
              "    </tr>\n",
              "    <tr>\n",
              "      <th>4</th>\n",
              "      <td>0</td>\n",
              "      <td>kwesidei whole crew</td>\n",
              "    </tr>\n",
              "  </tbody>\n",
              "</table>\n",
              "</div>\n",
              "      <button class=\"colab-df-convert\" onclick=\"convertToInteractive('df-f0d86f13-1d3e-40a6-bd5e-f043195387df')\"\n",
              "              title=\"Convert this dataframe to an interactive table.\"\n",
              "              style=\"display:none;\">\n",
              "        \n",
              "  <svg xmlns=\"http://www.w3.org/2000/svg\" height=\"24px\"viewBox=\"0 0 24 24\"\n",
              "       width=\"24px\">\n",
              "    <path d=\"M0 0h24v24H0V0z\" fill=\"none\"/>\n",
              "    <path d=\"M18.56 5.44l.94 2.06.94-2.06 2.06-.94-2.06-.94-.94-2.06-.94 2.06-2.06.94zm-11 1L8.5 8.5l.94-2.06 2.06-.94-2.06-.94L8.5 2.5l-.94 2.06-2.06.94zm10 10l.94 2.06.94-2.06 2.06-.94-2.06-.94-.94-2.06-.94 2.06-2.06.94z\"/><path d=\"M17.41 7.96l-1.37-1.37c-.4-.4-.92-.59-1.43-.59-.52 0-1.04.2-1.43.59L10.3 9.45l-7.72 7.72c-.78.78-.78 2.05 0 2.83L4 21.41c.39.39.9.59 1.41.59.51 0 1.02-.2 1.41-.59l7.78-7.78 2.81-2.81c.8-.78.8-2.07 0-2.86zM5.41 20L4 18.59l7.72-7.72 1.47 1.35L5.41 20z\"/>\n",
              "  </svg>\n",
              "      </button>\n",
              "      \n",
              "  <style>\n",
              "    .colab-df-container {\n",
              "      display:flex;\n",
              "      flex-wrap:wrap;\n",
              "      gap: 12px;\n",
              "    }\n",
              "\n",
              "    .colab-df-convert {\n",
              "      background-color: #E8F0FE;\n",
              "      border: none;\n",
              "      border-radius: 50%;\n",
              "      cursor: pointer;\n",
              "      display: none;\n",
              "      fill: #1967D2;\n",
              "      height: 32px;\n",
              "      padding: 0 0 0 0;\n",
              "      width: 32px;\n",
              "    }\n",
              "\n",
              "    .colab-df-convert:hover {\n",
              "      background-color: #E2EBFA;\n",
              "      box-shadow: 0px 1px 2px rgba(60, 64, 67, 0.3), 0px 1px 3px 1px rgba(60, 64, 67, 0.15);\n",
              "      fill: #174EA6;\n",
              "    }\n",
              "\n",
              "    [theme=dark] .colab-df-convert {\n",
              "      background-color: #3B4455;\n",
              "      fill: #D2E3FC;\n",
              "    }\n",
              "\n",
              "    [theme=dark] .colab-df-convert:hover {\n",
              "      background-color: #434B5C;\n",
              "      box-shadow: 0px 1px 3px 1px rgba(0, 0, 0, 0.15);\n",
              "      filter: drop-shadow(0px 1px 2px rgba(0, 0, 0, 0.3));\n",
              "      fill: #FFFFFF;\n",
              "    }\n",
              "  </style>\n",
              "\n",
              "      <script>\n",
              "        const buttonEl =\n",
              "          document.querySelector('#df-f0d86f13-1d3e-40a6-bd5e-f043195387df button.colab-df-convert');\n",
              "        buttonEl.style.display =\n",
              "          google.colab.kernel.accessAllowed ? 'block' : 'none';\n",
              "\n",
              "        async function convertToInteractive(key) {\n",
              "          const element = document.querySelector('#df-f0d86f13-1d3e-40a6-bd5e-f043195387df');\n",
              "          const dataTable =\n",
              "            await google.colab.kernel.invokeFunction('convertToInteractive',\n",
              "                                                     [key], {});\n",
              "          if (!dataTable) return;\n",
              "\n",
              "          const docLinkHtml = 'Like what you see? Visit the ' +\n",
              "            '<a target=\"_blank\" href=https://colab.research.google.com/notebooks/data_table.ipynb>data table notebook</a>'\n",
              "            + ' to learn more about interactive tables.';\n",
              "          element.innerHTML = '';\n",
              "          dataTable['output_type'] = 'display_data';\n",
              "          await google.colab.output.renderOutput(dataTable, element);\n",
              "          const docLink = document.createElement('div');\n",
              "          docLink.innerHTML = docLinkHtml;\n",
              "          element.appendChild(docLink);\n",
              "        }\n",
              "      </script>\n",
              "    </div>\n",
              "  </div>\n",
              "  "
            ]
          },
          "metadata": {},
          "execution_count": 49
        }
      ],
      "source": [
        "\n",
        "a = LabelEncoder()\n",
        "a.fit(tmp_store['target'])\n",
        "\n",
        "tmp_store['target'] = a.transform(tmp_store['target'])\n",
        "tmp_store.head()\n"
      ]
    },
    {
      "cell_type": "code",
      "execution_count": 50,
      "metadata": {
        "id": "NgWzIWw8VOCe"
      },
      "outputs": [],
      "source": [
        "\n",
        "x = tmp_store['text']\n",
        "y = tmp_store['target']\n",
        "X_train, X_test, y_train, y_test = train_test_split(x,y, test_size=0.2, random_state=42)"
      ]
    },
    {
      "cell_type": "code",
      "execution_count": 51,
      "metadata": {
        "id": "u9kM0Va0drp5"
      },
      "outputs": [],
      "source": [
        "tokenizer_obj = Tokenizer()\n",
        "X_train_str = [str(text) for text in X_train]\n",
        "tokenizer_obj.fit_on_texts(X_train) \n",
        "\n",
        "\n",
        "# pad sequences\n",
        "\n",
        "max_length = 30 \n",
        "# define vocabulary size\n",
        "vocab_size = len(tokenizer_obj.word_index) + 1\n",
        "\n",
        "\n",
        "X_train_tokens =  tokenizer_obj.texts_to_sequences(X_train)\n",
        "X_test_tokens = tokenizer_obj.texts_to_sequences(X_test)\n",
        "\n",
        "\n",
        "\n",
        "X_train_pad = pad_sequences(X_train_tokens, maxlen=max_length, padding='post')\n",
        "X_test_pad = pad_sequences(X_test_tokens, maxlen=max_length, padding='post')\n",
        "word_index =tokenizer_obj.word_index\n",
        "\n",
        "\n",
        "\n",
        "\n"
      ]
    },
    {
      "cell_type": "markdown",
      "source": [
        "Loading the Glove Word Embedding "
      ],
      "metadata": {
        "id": "X1FvCz8XJQ-2"
      }
    },
    {
      "cell_type": "code",
      "execution_count": 52,
      "metadata": {
        "id": "hF3o74gVU6Ym",
        "colab": {
          "base_uri": "https://localhost:8080/"
        },
        "outputId": "19635e42-1265-43b3-a979-990ef605edcf"
      },
      "outputs": [
        {
          "output_type": "stream",
          "name": "stdout",
          "text": [
            "--2023-05-07 22:45:47--  http://nlp.stanford.edu/data/glove.6B.zip\n",
            "Resolving nlp.stanford.edu (nlp.stanford.edu)... 171.64.67.140\n",
            "Connecting to nlp.stanford.edu (nlp.stanford.edu)|171.64.67.140|:80... connected.\n",
            "HTTP request sent, awaiting response... 302 Found\n",
            "Location: https://nlp.stanford.edu/data/glove.6B.zip [following]\n",
            "--2023-05-07 22:45:47--  https://nlp.stanford.edu/data/glove.6B.zip\n",
            "Connecting to nlp.stanford.edu (nlp.stanford.edu)|171.64.67.140|:443... connected.\n",
            "HTTP request sent, awaiting response... 301 Moved Permanently\n",
            "Location: https://downloads.cs.stanford.edu/nlp/data/glove.6B.zip [following]\n",
            "--2023-05-07 22:45:47--  https://downloads.cs.stanford.edu/nlp/data/glove.6B.zip\n",
            "Resolving downloads.cs.stanford.edu (downloads.cs.stanford.edu)... 171.64.64.22\n",
            "Connecting to downloads.cs.stanford.edu (downloads.cs.stanford.edu)|171.64.64.22|:443... connected.\n",
            "HTTP request sent, awaiting response... 200 OK\n",
            "Length: 862182613 (822M) [application/zip]\n",
            "Saving to: ‘glove.6B.zip.1’\n",
            "\n",
            "glove.6B.zip.1      100%[===================>] 822.24M  5.00MB/s    in 2m 41s  \n",
            "\n",
            "2023-05-07 22:48:29 (5.09 MB/s) - ‘glove.6B.zip.1’ saved [862182613/862182613]\n",
            "\n",
            "Archive:  glove.6B.zip\n",
            "replace glove.6B.50d.txt? [y]es, [n]o, [A]ll, [N]one, [r]ename: N\n"
          ]
        }
      ],
      "source": [
        "import locale \n",
        "locale.getpreferredencoding = lambda: \"UTF-8\"\n",
        "!wget http://nlp.stanford.edu/data/glove.6B.zip\n",
        "!unzip glove.6B.zip"
      ]
    },
    {
      "cell_type": "code",
      "execution_count": 53,
      "metadata": {
        "id": "T1M3EAEjfJg0"
      },
      "outputs": [],
      "source": [
        "gl_em_dict = {}\n",
        "with open('glove.6B.300d.txt','r', encoding='utf-8') as f:\n",
        "  for j in f:\n",
        "    v = j.split()\n",
        "    w = v[0]\n",
        "    word_v = np.asarray(v[1:],'float32')\n",
        "    gl_em_dict[w]=word_v\n"
      ]
    },
    {
      "cell_type": "code",
      "execution_count": 54,
      "metadata": {
        "id": "bAZiMojjgEFO"
      },
      "outputs": [],
      "source": [
        "em_matrix = np.zeros((vocab_size, 300))\n",
        "for w, i in word_index.items():\n",
        "  em_vector = gl_em_dict.get(w)\n",
        "  if em_vector is not None:\n",
        "    em_matrix[i] = em_vector\n",
        "    \n"
      ]
    },
    {
      "cell_type": "code",
      "execution_count": 55,
      "metadata": {
        "id": "UPwtohimf_HF"
      },
      "outputs": [],
      "source": [
        "from tensorflow.keras.layers import Embedding\n",
        "\n",
        "\n",
        "embed_layer = Embedding(vocab_size, 300, weights=[em_matrix], input_length=30, trainable=False)\n"
      ]
    },
    {
      "cell_type": "code",
      "execution_count": 56,
      "metadata": {
        "id": "UMqAKT2GikH6"
      },
      "outputs": [],
      "source": [
        "\n",
        "\n",
        "sequence_input = Input(shape=(30), dtype='int32')\n",
        "embedded_sequences = embed_layer(sequence_input)\n",
        "layer = SpatialDropout1D(0.2)(embedded_sequences)\n",
        "layer = LSTM(64, dropout=0.2, recurrent_dropout=0.2, return_sequences=True)(layer)\n",
        "layer = LSTM(64, dropout=0.2, recurrent_dropout=0.2)(layer)\n",
        "layer = Dense(512, activation='relu')(layer)\n",
        "layer = Dropout(0.5)(layer)\n",
        "layer = Dense(512, activation='relu')(layer)\n",
        "output = Dense(1, activation='sigmoid')(layer)\n",
        "\n",
        "model = Model(sequence_input, output)\n"
      ]
    },
    {
      "cell_type": "code",
      "execution_count": 57,
      "metadata": {
        "id": "N9KeoQ56UvCV"
      },
      "outputs": [],
      "source": [
        "model.compile(optimizer= 'adam', loss='binary_crossentropy',metrics=['accuracy'])"
      ]
    },
    {
      "cell_type": "code",
      "execution_count": 58,
      "metadata": {
        "colab": {
          "base_uri": "https://localhost:8080/"
        },
        "id": "8B7RN33PjxCE",
        "outputId": "04fc40c2-0c66-486f-e59e-641a10ca402e"
      },
      "outputs": [
        {
          "output_type": "stream",
          "name": "stdout",
          "text": [
            "Epoch 1/5\n",
            "10000/10000 - 2888s - loss: 0.5229 - accuracy: 0.7387 - val_loss: 0.4861 - val_accuracy: 0.7634 - 2888s/epoch - 289ms/step\n",
            "Epoch 2/5\n",
            "10000/10000 - 2908s - loss: 0.4952 - accuracy: 0.7574 - val_loss: 0.4797 - val_accuracy: 0.7676 - 2908s/epoch - 291ms/step\n",
            "Epoch 3/5\n",
            "10000/10000 - 2911s - loss: 0.4871 - accuracy: 0.7624 - val_loss: 0.4758 - val_accuracy: 0.7708 - 2911s/epoch - 291ms/step\n",
            "Epoch 4/5\n",
            "10000/10000 - 2897s - loss: 0.4827 - accuracy: 0.7652 - val_loss: 0.4733 - val_accuracy: 0.7723 - 2897s/epoch - 290ms/step\n",
            "Epoch 5/5\n",
            "10000/10000 - 2897s - loss: 0.4791 - accuracy: 0.7675 - val_loss: 0.4726 - val_accuracy: 0.7738 - 2897s/epoch - 290ms/step\n"
          ]
        }
      ],
      "source": [
        "history =model.fit(X_train_pad, y_train, batch_size=128, epochs=5, validation_data=(X_test_pad, y_test), verbose=2)"
      ]
    },
    {
      "cell_type": "code",
      "execution_count": 59,
      "metadata": {
        "id": "vSedvQ_0crqS",
        "colab": {
          "base_uri": "https://localhost:8080/"
        },
        "outputId": "fb7220d9-60d7-4233-ef74-064c44a61d9e"
      },
      "outputs": [
        {
          "output_type": "stream",
          "name": "stdout",
          "text": [
            "Testing...\n",
            "2500/2500 [==============================] - 139s 56ms/step - loss: 0.4726 - accuracy: 0.7738\n",
            "Test score: 0.47256729006767273\n",
            "Test accuracy: 0.7738156318664551\n",
            "Accuracy: 77.38%\n"
          ]
        }
      ],
      "source": [
        "\n",
        "print('Testing...')\n",
        "score, acc = model.evaluate(X_test_pad, y_test, batch_size=128)\n",
        "\n",
        "print('Test score:', score)\n",
        "print('Test accuracy:', acc)\n",
        "\n",
        "print(\"Accuracy: {0:.2%}\".format(acc))"
      ]
    },
    {
      "cell_type": "code",
      "source": [
        "print(acc)"
      ],
      "metadata": {
        "colab": {
          "base_uri": "https://localhost:8080/"
        },
        "id": "cJiGx2WZ3PP0",
        "outputId": "4d1d1cab-f0f1-4ccf-f8aa-637bd5397c67"
      },
      "execution_count": 60,
      "outputs": [
        {
          "output_type": "stream",
          "name": "stdout",
          "text": [
            "0.7738156318664551\n"
          ]
        }
      ]
    },
    {
      "cell_type": "code",
      "source": [
        "import matplotlib.pyplot as plt\n",
        "\n",
        "# Create a line plot\n",
        "plt.plot(history.history['loss'], label='Loss')\n",
        "plt.plot(history.history['accuracy'], label='Accuracy')\n",
        "\n",
        "# Add labels and annotations\n",
        "plt.xlabel(\"Epochs\")\n",
        "plt.ylabel(\"Value\")\n",
        "plt.title(\"LSTM Training and Testing Results\")\n",
        "plt.legend()\n",
        "\n",
        "# Show the plot\n",
        "plt.show()\n",
        "\n"
      ],
      "metadata": {
        "colab": {
          "base_uri": "https://localhost:8080/",
          "height": 472
        },
        "id": "zJ8Sigws1Jgu",
        "outputId": "10f18707-b2f4-481f-941c-e89a6cd6d8b5"
      },
      "execution_count": 61,
      "outputs": [
        {
          "output_type": "display_data",
          "data": {
            "text/plain": [
              "<Figure size 640x480 with 1 Axes>"
            ],
            "image/png": "[encoded data removed]"
          },
          "metadata": {}
        }
      ]
    },
    {
      "cell_type": "code",
      "source": [
        "from keras.models import Sequential\n",
        "from keras.layers import Dense, Embedding, LSTM, GRU\n",
        "from keras.layers import Embedding\n",
        "\n",
        "EMBEDDING_DIM = 100\n",
        "\n",
        "print('Build model...')\n",
        "\n",
        "model = Sequential()\n",
        "model.add(Embedding(vocab_size, EMBEDDING_DIM, input_length=max_length))\n",
        "model.add(GRU(units=32,  dropout=0.2, recurrent_dropout=0.2))\n",
        "model.add(Dense(1, activation='sigmoid'))\n",
        "\n",
        "model = Model(sequence_input, output)\n",
        "\n"
      ],
      "metadata": {
        "colab": {
          "base_uri": "https://localhost:8080/"
        },
        "id": "bcf0BKnBd8am",
        "outputId": "21e11cf5-93de-4476-dd75-448ab8bbce65"
      },
      "execution_count": 62,
      "outputs": [
        {
          "output_type": "stream",
          "name": "stdout",
          "text": [
            "Build model...\n"
          ]
        }
      ]
    },
    {
      "cell_type": "code",
      "source": [
        "model.compile(loss='binary_crossentropy', optimizer='adam', metrics=['accuracy'])"
      ],
      "metadata": {
        "id": "JJFRD1RceYRf"
      },
      "execution_count": 63,
      "outputs": []
    },
    {
      "cell_type": "code",
      "source": [
        "print('Summary of the built model...')\n",
        "print(model.summary())"
      ],
      "metadata": {
        "colab": {
          "base_uri": "https://localhost:8080/"
        },
        "id": "e-O__CiGei4v",
        "outputId": "739d05bf-f7ea-4a25-8098-4e114f71491e"
      },
      "execution_count": 64,
      "outputs": [
        {
          "output_type": "stream",
          "name": "stdout",
          "text": [
            "Summary of the built model...\n",
            "Model: \"model_4\"\n",
            "_________________________________________________________________\n",
            " Layer (type)                Output Shape              Param #   \n",
            "=================================================================\n",
            " input_3 (InputLayer)        [(None, 30)]              0         \n",
            "                                                                 \n",
            " embedding_2 (Embedding)     (None, 30, 300)           165546300 \n",
            "                                                                 \n",
            " spatial_dropout1d_2 (Spatia  (None, 30, 300)          0         \n",
            " lDropout1D)                                                     \n",
            "                                                                 \n",
            " lstm_4 (LSTM)               (None, 30, 64)            93440     \n",
            "                                                                 \n",
            " lstm_5 (LSTM)               (None, 64)                33024     \n",
            "                                                                 \n",
            " dense_7 (Dense)             (None, 512)               33280     \n",
            "                                                                 \n",
            " dropout_2 (Dropout)         (None, 512)               0         \n",
            "                                                                 \n",
            " dense_8 (Dense)             (None, 512)               262656    \n",
            "                                                                 \n",
            " dense_9 (Dense)             (None, 1)                 513       \n",
            "                                                                 \n",
            "=================================================================\n",
            "Total params: 165,969,213\n",
            "Trainable params: 422,913\n",
            "Non-trainable params: 165,546,300\n",
            "_________________________________________________________________\n",
            "None\n"
          ]
        }
      ]
    },
    {
      "cell_type": "code",
      "source": [
        "print('Train...')\n",
        "\n",
        "history_gru =model.fit(X_train_pad, y_train, batch_size=128, epochs=5, validation_data=(X_test_pad, y_test), verbose=2)"
      ],
      "metadata": {
        "colab": {
          "base_uri": "https://localhost:8080/"
        },
        "id": "F1oPyXDE3wzd",
        "outputId": "34b69fb0-a42e-49d9-f053-8256b719010f"
      },
      "execution_count": null,
      "outputs": [
        {
          "output_type": "stream",
          "name": "stdout",
          "text": [
            "Train...\n",
            "Epoch 1/5\n",
            "10000/10000 - 2918s - loss: 0.4769 - accuracy: 0.7687 - val_loss: 0.4719 - val_accuracy: 0.7746 - 2918s/epoch - 292ms/step\n",
            "Epoch 2/5\n"
          ]
        }
      ]
    },
    {
      "cell_type": "code",
      "source": [
        "print('Testing...')\n",
        "score_gru, acc_gru = model.evaluate(X_test_pad, y_test, batch_size=128)\n",
        "\n",
        "print('Test score:', score_gru)\n",
        "print('Test accuracy:', acc_gru)\n",
        "\n",
        "print(\"Accuracy: {0:.2%}\".format(acc_gru))"
      ],
      "metadata": {
        "id": "4_5z2vtT4DX9"
      },
      "execution_count": null,
      "outputs": []
    },
    {
      "cell_type": "code",
      "source": [
        "import matplotlib.pyplot as plt\n",
        "\n",
        "# Create a line plot\n",
        "plt.plot(history_gru.history['loss'], label='Validation Loss')\n",
        "plt.plot(history_gru.history['accuracy'], label='Validation Accuracy')\n",
        "\n",
        "# Add labels and annotations\n",
        "plt.xlabel(\"Epochs\")\n",
        "plt.ylabel(\"Value\")\n",
        "plt.title(\"GRU Training and Testing Results\")\n",
        "plt.legend()\n",
        "\n",
        "# Show the plot\n",
        "plt.show()\n",
        "\n"
      ],
      "metadata": {
        "id": "Oe4sfUSyE_eW"
      },
      "execution_count": null,
      "outputs": []
    }
  ],
  "metadata": {
    "accelerator": "GPU",
    "colab": {
      "toc_visible": true,
      "provenance": [],
      "authorship_tag": "ABX9TyN6ZgoSv91bqzUkd+rvCt2C",
      "include_colab_link": true
    },
    "gpuClass": "standard",
    "kernelspec": {
      "display_name": "Python 3",
      "name": "python3"
    },
    "language_info": {
      "name": "python"
    }
  },
  "nbformat": 4,
  "nbformat_minor": 0
}
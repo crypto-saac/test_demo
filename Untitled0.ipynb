{
  "nbformat": 4,
  "nbformat_minor": 0,
  "metadata": {
    "colab": {
      "provenance": [],
      "toc_visible": true,
      "gpuType": "T4",
      "authorship_tag": "ABX9TyOSN/ApRen15RkRXFPSBK3l",
      "include_colab_link": true
    },
    "kernelspec": {
      "name": "python3",
      "display_name": "Python 3"
    },
    "language_info": {
      "name": "python"
    },
    "accelerator": "GPU",
    "gpuClass": "standard"
  },
  "cells": [
    {
      "cell_type": "markdown",
      "metadata": {
        "id": "view-in-github",
        "colab_type": "text"
      },
      "source": [
        "<a href=\"https://colab.research.google.com/github/crypto-saac/test_demo/blob/master/Untitled0.ipynb\" target=\"_parent\"><img src=\"https://colab.research.google.com/assets/colab-badge.svg\" alt=\"Open In Colab\"/></a>"
      ]
    },
    {
      "cell_type": "markdown",
      "source": [
        "Sakhile Ngcobo 217022615"
      ],
      "metadata": {
        "id": "8lFtWmkIdUTc"
      }
    },
    {
      "cell_type": "code",
      "source": [
        "import pandas as pd\n",
        "import numpy as np\n",
        "import re\n",
        "import collections\n",
        "import matplotlib.pyplot as plt\n",
        "from pathlib import Path\n",
        "from sklearn.model_selection import train_test_split\n",
        "from nltk.corpus import stopwords\n",
        "from keras.preprocessing.text import Tokenizer\n",
        "from keras.utils.np_utils import to_categorical\n",
        "from tensorflow.keras.optimizers import Adam\n",
        "from tensorflow.keras.callbacks import ReduceLROnPlateau\n",
        "from tensorflow.keras.preprocessing.sequence import pad_sequences\n",
        "from tensorflow.keras.layers import Conv1D, Bidirectional, LSTM, Dense, Input, Dropout\n",
        "from tensorflow.keras.layers import SpatialDropout1D\n",
        "from tensorflow.keras.callbacks import ModelCheckpoint\n",
        "from sklearn.preprocessing import LabelEncoder\n",
        "from keras import models\n",
        "from keras import layers\n",
        "from numpy import array\n",
        "from keras.preprocessing.text import one_hot\n",
        "from keras.models import Sequential\n",
        "from keras.layers.core import Activation, Dropout, Dense\n",
        "from keras.layers import Flatten, LSTM\n",
        "from keras.layers import GlobalMaxPooling1D\n",
        "from keras.models import Model\n",
        "\n",
        "from IPython.display import SVG\n",
        "#from keras.layers.vis_utils import model_to_dot"
      ],
      "metadata": {
        "id": "JFcomHYp5ML0"
      },
      "execution_count": null,
      "outputs": []
    },
    {
      "cell_type": "code",
      "execution_count": null,
      "metadata": {
        "colab": {
          "base_uri": "https://localhost:8080/"
        },
        "id": "_pH9OgaR3tZQ",
        "outputId": "bc90171b-03ec-4252-db35-479f54317d7c"
      },
      "outputs": [
        {
          "output_type": "stream",
          "name": "stdout",
          "text": [
            "Drive already mounted at /content/drive; to attempt to forcibly remount, call drive.mount(\"/content/drive\", force_remount=True).\n"
          ]
        }
      ],
      "source": [
        "from google.colab import drive\n",
        "drive.mount('/content/drive')"
      ]
    },
    {
      "cell_type": "code",
      "source": [
        "\n",
        "filePath='/content/drive/MyDrive/training.1600000.processed.noemoticon.csv'\n",
        "columns = [\"target\", \"ids\", \"date\", \"flag\", \"user\", \"text\"]\n",
        "df = pd.read_csv(filePath, header=0,encoding='latin-1', names=columns)"
      ],
      "metadata": {
        "id": "riQtA4Eu5Pr0"
      },
      "execution_count": null,
      "outputs": []
    },
    {
      "cell_type": "code",
      "source": [
        "tmp_store = df[['target', 'text']]\n",
        "tmp_store['target'].unique()\n",
        "class_dict = {'\"0\"': 'negative', '\"4\"': 'positive'}\n",
        "labels = tmp_store['target']\n",
        "tmp_store.target"
      ],
      "metadata": {
        "colab": {
          "base_uri": "https://localhost:8080/"
        },
        "id": "zX8EaTnI5Swc",
        "outputId": "0068f4af-d48e-4c9b-bb20-e6d229c7e02c"
      },
      "execution_count": null,
      "outputs": [
        {
          "output_type": "execute_result",
          "data": {
            "text/plain": [
              "0          0\n",
              "1          0\n",
              "2          0\n",
              "3          0\n",
              "4          0\n",
              "          ..\n",
              "1599994    4\n",
              "1599995    4\n",
              "1599996    4\n",
              "1599997    4\n",
              "1599998    4\n",
              "Name: target, Length: 1599999, dtype: int64"
            ]
          },
          "metadata": {},
          "execution_count": 4
        }
      ]
    },
    {
      "cell_type": "code",
      "source": [
        "\n",
        "import re\n",
        "import string\n",
        "import nltk\n",
        "from nltk.corpus import stopwords\n",
        "from nltk.stem import SnowballStemmer\n",
        "\n",
        "nltk.download('stopwords')\n",
        "s_words = set(stopwords.words('english'))\n",
        "snow_stemmer = SnowballStemmer(\"english\")\n",
        "\n",
        "def preprocess_text(text):\n",
        "    # Convert text to lowercase\n",
        "    text = text.lower()\n",
        "\n",
        "    # Remove URLs and HTML tags\n",
        "    text = re.sub(r'https?://\\S+|www\\.\\S+|<.*?>', '', text)\n",
        "\n",
        "    # Remove punctuation\n",
        "    text = text.translate(str.maketrans('', '', string.punctuation))\n",
        "\n",
        "    # Remove digits\n",
        "    text = re.sub(r'\\w*\\d\\w*', '', text)\n",
        "\n",
        "    # Remove stop words\n",
        "    text = ' '.join(word for word in text.split() if word not in s_words)\n",
        "\n",
        "    # Stem words\n",
        "    text = ' '.join(snow_stemmer.stem(word) for word in text.split())\n",
        "\n",
        "    return text\n",
        "\n",
        "# Apply preprocessing function to 'text' column of 'tmp_store' dataframe\n",
        "tmp_store['text'] = tmp_store['text'].apply(preprocess_text)\n",
        "\n",
        "# Show first few rows of preprocessed 'tmp_store' dataframe\n",
        "print(tmp_store.head())\n"
      ],
      "metadata": {
        "colab": {
          "base_uri": "https://localhost:8080/"
        },
        "id": "ZuQj_vOe5WcF",
        "outputId": "66fcb1f5-15cc-4001-b6db-cdd98d7175b3"
      },
      "execution_count": null,
      "outputs": [
        {
          "output_type": "stream",
          "name": "stderr",
          "text": [
            "[nltk_data] Downloading package stopwords to /root/nltk_data...\n",
            "[nltk_data]   Package stopwords is already up-to-date!\n"
          ]
        },
        {
          "output_type": "stream",
          "name": "stdout",
          "text": [
            "   target                                               text\n",
            "0       0  upset cant updat facebook text might cri resul...\n",
            "1       0  kenichan dive mani time ball manag save rest g...\n",
            "2       0                    whole bodi feel itchi like fire\n",
            "3       0              nationwideclass behav im mad cant see\n",
            "4       0                                kwesidei whole crew\n"
          ]
        },
        {
          "output_type": "stream",
          "name": "stderr",
          "text": [
            "<ipython-input-5-aa3fd2e85d38>:33: SettingWithCopyWarning: \n",
            "A value is trying to be set on a copy of a slice from a DataFrame.\n",
            "Try using .loc[row_indexer,col_indexer] = value instead\n",
            "\n",
            "See the caveats in the documentation: https://pandas.pydata.org/pandas-docs/stable/user_guide/indexing.html#returning-a-view-versus-a-copy\n",
            "  tmp_store['text'] = tmp_store['text'].apply(preprocess_text)\n"
          ]
        }
      ]
    },
    {
      "cell_type": "code",
      "source": [
        "\n",
        "\n",
        "a = LabelEncoder()\n",
        "a.fit(tmp_store['target'])\n",
        "\n",
        "tmp_store['target'] = a.transform(tmp_store['target'])\n",
        "tmp_store.head()"
      ],
      "metadata": {
        "colab": {
          "base_uri": "https://localhost:8080/",
          "height": 330
        },
        "id": "XZskb1Ik5aS1",
        "outputId": "1ddcf43a-f8ea-47eb-a3ac-c735159b1a73"
      },
      "execution_count": null,
      "outputs": [
        {
          "output_type": "stream",
          "name": "stderr",
          "text": [
            "<ipython-input-6-3fcb8b18c93a>:4: SettingWithCopyWarning: \n",
            "A value is trying to be set on a copy of a slice from a DataFrame.\n",
            "Try using .loc[row_indexer,col_indexer] = value instead\n",
            "\n",
            "See the caveats in the documentation: https://pandas.pydata.org/pandas-docs/stable/user_guide/indexing.html#returning-a-view-versus-a-copy\n",
            "  tmp_store['target'] = a.transform(tmp_store['target'])\n"
          ]
        },
        {
          "output_type": "execute_result",
          "data": {
            "text/plain": [
              "   target                                               text\n",
              "0       0  upset cant updat facebook text might cri resul...\n",
              "1       0  kenichan dive mani time ball manag save rest g...\n",
              "2       0                    whole bodi feel itchi like fire\n",
              "3       0              nationwideclass behav im mad cant see\n",
              "4       0                                kwesidei whole crew"
            ],
            "text/html": [
              "\n",
              "  <div id=\"df-78ead982-39c4-49bd-b800-3cfe50936197\">\n",
              "    <div class=\"colab-df-container\">\n",
              "      <div>\n",
              "<style scoped>\n",
              "    .dataframe tbody tr th:only-of-type {\n",
              "        vertical-align: middle;\n",
              "    }\n",
              "\n",
              "    .dataframe tbody tr th {\n",
              "        vertical-align: top;\n",
              "    }\n",
              "\n",
              "    .dataframe thead th {\n",
              "        text-align: right;\n",
              "    }\n",
              "</style>\n",
              "<table border=\"1\" class=\"dataframe\">\n",
              "  <thead>\n",
              "    <tr style=\"text-align: right;\">\n",
              "      <th></th>\n",
              "      <th>target</th>\n",
              "      <th>text</th>\n",
              "    </tr>\n",
              "  </thead>\n",
              "  <tbody>\n",
              "    <tr>\n",
              "      <th>0</th>\n",
              "      <td>0</td>\n",
              "      <td>upset cant updat facebook text might cri resul...</td>\n",
              "    </tr>\n",
              "    <tr>\n",
              "      <th>1</th>\n",
              "      <td>0</td>\n",
              "      <td>kenichan dive mani time ball manag save rest g...</td>\n",
              "    </tr>\n",
              "    <tr>\n",
              "      <th>2</th>\n",
              "      <td>0</td>\n",
              "      <td>whole bodi feel itchi like fire</td>\n",
              "    </tr>\n",
              "    <tr>\n",
              "      <th>3</th>\n",
              "      <td>0</td>\n",
              "      <td>nationwideclass behav im mad cant see</td>\n",
              "    </tr>\n",
              "    <tr>\n",
              "      <th>4</th>\n",
              "      <td>0</td>\n",
              "      <td>kwesidei whole crew</td>\n",
              "    </tr>\n",
              "  </tbody>\n",
              "</table>\n",
              "</div>\n",
              "      <button class=\"colab-df-convert\" onclick=\"convertToInteractive('df-78ead982-39c4-49bd-b800-3cfe50936197')\"\n",
              "              title=\"Convert this dataframe to an interactive table.\"\n",
              "              style=\"display:none;\">\n",
              "        \n",
              "  <svg xmlns=\"http://www.w3.org/2000/svg\" height=\"24px\"viewBox=\"0 0 24 24\"\n",
              "       width=\"24px\">\n",
              "    <path d=\"M0 0h24v24H0V0z\" fill=\"none\"/>\n",
              "    <path d=\"M18.56 5.44l.94 2.06.94-2.06 2.06-.94-2.06-.94-.94-2.06-.94 2.06-2.06.94zm-11 1L8.5 8.5l.94-2.06 2.06-.94-2.06-.94L8.5 2.5l-.94 2.06-2.06.94zm10 10l.94 2.06.94-2.06 2.06-.94-2.06-.94-.94-2.06-.94 2.06-2.06.94z\"/><path d=\"M17.41 7.96l-1.37-1.37c-.4-.4-.92-.59-1.43-.59-.52 0-1.04.2-1.43.59L10.3 9.45l-7.72 7.72c-.78.78-.78 2.05 0 2.83L4 21.41c.39.39.9.59 1.41.59.51 0 1.02-.2 1.41-.59l7.78-7.78 2.81-2.81c.8-.78.8-2.07 0-2.86zM5.41 20L4 18.59l7.72-7.72 1.47 1.35L5.41 20z\"/>\n",
              "  </svg>\n",
              "      </button>\n",
              "      \n",
              "  <style>\n",
              "    .colab-df-container {\n",
              "      display:flex;\n",
              "      flex-wrap:wrap;\n",
              "      gap: 12px;\n",
              "    }\n",
              "\n",
              "    .colab-df-convert {\n",
              "      background-color: #E8F0FE;\n",
              "      border: none;\n",
              "      border-radius: 50%;\n",
              "      cursor: pointer;\n",
              "      display: none;\n",
              "      fill: #1967D2;\n",
              "      height: 32px;\n",
              "      padding: 0 0 0 0;\n",
              "      width: 32px;\n",
              "    }\n",
              "\n",
              "    .colab-df-convert:hover {\n",
              "      background-color: #E2EBFA;\n",
              "      box-shadow: 0px 1px 2px rgba(60, 64, 67, 0.3), 0px 1px 3px 1px rgba(60, 64, 67, 0.15);\n",
              "      fill: #174EA6;\n",
              "    }\n",
              "\n",
              "    [theme=dark] .colab-df-convert {\n",
              "      background-color: #3B4455;\n",
              "      fill: #D2E3FC;\n",
              "    }\n",
              "\n",
              "    [theme=dark] .colab-df-convert:hover {\n",
              "      background-color: #434B5C;\n",
              "      box-shadow: 0px 1px 3px 1px rgba(0, 0, 0, 0.15);\n",
              "      filter: drop-shadow(0px 1px 2px rgba(0, 0, 0, 0.3));\n",
              "      fill: #FFFFFF;\n",
              "    }\n",
              "  </style>\n",
              "\n",
              "      <script>\n",
              "        const buttonEl =\n",
              "          document.querySelector('#df-78ead982-39c4-49bd-b800-3cfe50936197 button.colab-df-convert');\n",
              "        buttonEl.style.display =\n",
              "          google.colab.kernel.accessAllowed ? 'block' : 'none';\n",
              "\n",
              "        async function convertToInteractive(key) {\n",
              "          const element = document.querySelector('#df-78ead982-39c4-49bd-b800-3cfe50936197');\n",
              "          const dataTable =\n",
              "            await google.colab.kernel.invokeFunction('convertToInteractive',\n",
              "                                                     [key], {});\n",
              "          if (!dataTable) return;\n",
              "\n",
              "          const docLinkHtml = 'Like what you see? Visit the ' +\n",
              "            '<a target=\"_blank\" href=https://colab.research.google.com/notebooks/data_table.ipynb>data table notebook</a>'\n",
              "            + ' to learn more about interactive tables.';\n",
              "          element.innerHTML = '';\n",
              "          dataTable['output_type'] = 'display_data';\n",
              "          await google.colab.output.renderOutput(dataTable, element);\n",
              "          const docLink = document.createElement('div');\n",
              "          docLink.innerHTML = docLinkHtml;\n",
              "          element.appendChild(docLink);\n",
              "        }\n",
              "      </script>\n",
              "    </div>\n",
              "  </div>\n",
              "  "
            ]
          },
          "metadata": {},
          "execution_count": 6
        }
      ]
    },
    {
      "cell_type": "code",
      "source": [
        "\n",
        "\n",
        "x = tmp_store['text']\n",
        "y = tmp_store['target']\n",
        "X_train, X_test, y_train, y_test = train_test_split(x,y, test_size=0.2, random_state=42)"
      ],
      "metadata": {
        "id": "4sDsOZjW5c8d"
      },
      "execution_count": null,
      "outputs": []
    },
    {
      "cell_type": "code",
      "source": [
        "\n",
        "tokenizer_obj = Tokenizer()\n",
        "X_train_str = [str(text) for text in X_train]\n",
        "tokenizer_obj.fit_on_texts(X_train) \n",
        "\n",
        "\n",
        "# pad sequences\n",
        "\n",
        "max_length = 30 \n",
        "# define vocabulary size\n",
        "vocab_size = len(tokenizer_obj.word_index) + 1\n",
        "\n",
        "\n",
        "X_train_tokens =  tokenizer_obj.texts_to_sequences(X_train)\n",
        "X_test_tokens = tokenizer_obj.texts_to_sequences(X_test)\n",
        "\n",
        "\n",
        "\n",
        "X_train_pad = pad_sequences(X_train_tokens, maxlen=max_length, padding='post')\n",
        "X_test_pad = pad_sequences(X_test_tokens, maxlen=max_length, padding='post')\n",
        "word_index =tokenizer_obj.word_index\n"
      ],
      "metadata": {
        "id": "az_YuJB85got"
      },
      "execution_count": null,
      "outputs": []
    },
    {
      "cell_type": "code",
      "source": [
        "import locale \n",
        "locale.getpreferredencoding = lambda: \"UTF-8\"\n",
        "!wget http://nlp.stanford.edu/data/glove.6B.zip\n",
        "!unzip glove.6B.zip"
      ],
      "metadata": {
        "colab": {
          "base_uri": "https://localhost:8080/"
        },
        "id": "BkwRqemS5jr9",
        "outputId": "5e7d8071-db63-4dc0-bc48-647cd37584d3"
      },
      "execution_count": null,
      "outputs": [
        {
          "output_type": "stream",
          "name": "stdout",
          "text": [
            "--2023-05-10 18:44:50--  http://nlp.stanford.edu/data/glove.6B.zip\n",
            "Resolving nlp.stanford.edu (nlp.stanford.edu)... 171.64.67.140\n",
            "Connecting to nlp.stanford.edu (nlp.stanford.edu)|171.64.67.140|:80... connected.\n",
            "HTTP request sent, awaiting response... 302 Found\n",
            "Location: https://nlp.stanford.edu/data/glove.6B.zip [following]\n",
            "--2023-05-10 18:44:51--  https://nlp.stanford.edu/data/glove.6B.zip\n",
            "Connecting to nlp.stanford.edu (nlp.stanford.edu)|171.64.67.140|:443... connected.\n",
            "HTTP request sent, awaiting response... 301 Moved Permanently\n",
            "Location: https://downloads.cs.stanford.edu/nlp/data/glove.6B.zip [following]\n",
            "--2023-05-10 18:44:51--  https://downloads.cs.stanford.edu/nlp/data/glove.6B.zip\n",
            "Resolving downloads.cs.stanford.edu (downloads.cs.stanford.edu)... 171.64.64.22\n",
            "Connecting to downloads.cs.stanford.edu (downloads.cs.stanford.edu)|171.64.64.22|:443... connected.\n",
            "HTTP request sent, awaiting response... 200 OK\n",
            "Length: 862182613 (822M) [application/zip]\n",
            "Saving to: ‘glove.6B.zip’\n",
            "\n",
            "glove.6B.zip        100%[===================>] 822.24M  5.12MB/s    in 2m 39s  \n",
            "\n",
            "2023-05-10 18:47:31 (5.17 MB/s) - ‘glove.6B.zip’ saved [862182613/862182613]\n",
            "\n",
            "Archive:  glove.6B.zip\n",
            "  inflating: glove.6B.50d.txt        \n",
            "  inflating: glove.6B.100d.txt       \n",
            "  inflating: glove.6B.200d.txt       \n",
            "  inflating: glove.6B.300d.txt       \n"
          ]
        }
      ]
    },
    {
      "cell_type": "code",
      "source": [
        "gl_em_dict = {}\n",
        "with open('glove.6B.300d.txt','r', encoding='utf-8') as f:\n",
        "  for j in f:\n",
        "    v = j.split()\n",
        "    w = v[0]\n",
        "    word_v = np.asarray(v[1:],'float32')\n",
        "    gl_em_dict[w]=word_v"
      ],
      "metadata": {
        "id": "ZSaV2xsp5mUV"
      },
      "execution_count": null,
      "outputs": []
    },
    {
      "cell_type": "code",
      "source": [
        "em_matrix = np.zeros((vocab_size, 300))\n",
        "for w, i in word_index.items():\n",
        "  em_vector = gl_em_dict.get(w)\n",
        "  if em_vector is not None:\n",
        "    em_matrix[i] = em_vector\n",
        "    "
      ],
      "metadata": {
        "id": "3wL4IRfp5opF"
      },
      "execution_count": null,
      "outputs": []
    },
    {
      "cell_type": "code",
      "source": [
        "from tensorflow.keras.layers import Embedding\n",
        "\n",
        "\n",
        "embed_layer = Embedding(vocab_size, 300, weights=[em_matrix], input_length=30, trainable=False)"
      ],
      "metadata": {
        "id": "DCB1w8ui5rfc"
      },
      "execution_count": null,
      "outputs": []
    },
    {
      "cell_type": "code",
      "source": [
        "\n",
        "\n",
        "from keras.models import Sequential\n",
        "from keras.layers import Dense, Embedding, LSTM, GRU\n",
        "from keras.layers import Embedding\n",
        "\n",
        "EMBEDDING_DIM = 100\n",
        "\n",
        "print('Build model...')\n",
        "\n",
        "model = Sequential()\n",
        "sequence_input = Input(shape=(30), dtype='int32')\n",
        "model.add(Embedding(vocab_size, EMBEDDING_DIM, input_length=max_length))\n",
        "model.add(GRU(units=32,  dropout=0.2, recurrent_dropout=0.2))\n",
        "model.add(Dense(1, activation='sigmoid'))\n",
        "\n",
        "\n"
      ],
      "metadata": {
        "colab": {
          "base_uri": "https://localhost:8080/"
        },
        "id": "U1DK5Sks5tzF",
        "outputId": "353165f1-25db-4542-a038-fef9a8476bd5"
      },
      "execution_count": null,
      "outputs": [
        {
          "output_type": "stream",
          "name": "stderr",
          "text": [
            "WARNING:tensorflow:Layer gru_2 will not use cuDNN kernels since it doesn't meet the criteria. It will use a generic GPU kernel as fallback when running on GPU.\n"
          ]
        },
        {
          "output_type": "stream",
          "name": "stdout",
          "text": [
            "Build model...\n"
          ]
        }
      ]
    },
    {
      "cell_type": "code",
      "source": [
        "\n",
        "model.compile(optimizer= 'adam', loss='binary_crossentropy',metrics=['accuracy'])"
      ],
      "metadata": {
        "id": "F7VHDvwG5wVN"
      },
      "execution_count": null,
      "outputs": []
    },
    {
      "cell_type": "code",
      "source": [
        "history =model.fit(X_train_pad, y_train, batch_size=128, epochs=2, validation_data=(X_test_pad, y_test), verbose=2)"
      ],
      "metadata": {
        "colab": {
          "base_uri": "https://localhost:8080/"
        },
        "id": "IpfCwV2P5z49",
        "outputId": "d6076c41-7471-4ce8-f850-33ded35b0183"
      },
      "execution_count": null,
      "outputs": [
        {
          "output_type": "stream",
          "name": "stdout",
          "text": [
            "Epoch 1/2\n",
            "10000/10000 - 1427s - loss: 0.6932 - accuracy: 0.4993 - val_loss: 0.6932 - val_accuracy: 0.4984 - 1427s/epoch - 143ms/step\n",
            "Epoch 2/2\n",
            "10000/10000 - 1424s - loss: 0.4938 - accuracy: 0.7391 - val_loss: 0.4400 - val_accuracy: 0.7937 - 1424s/epoch - 142ms/step\n"
          ]
        }
      ]
    },
    {
      "cell_type": "code",
      "source": [
        "\n",
        "print('Testing...')\n",
        "score_gru, acc_gru = model.evaluate(X_test_pad, y_test, batch_size=128)\n",
        "\n",
        "print('Test score:', score_gru)\n",
        "print('Test accuracy:', acc_gru)\n",
        "error_rate_gru = 1- acc_gru\n",
        "\n",
        "print(\"Accuracy: {0:.2%}\".format(acc_gru))\n",
        "print(\"Error rate:\", error_rate_gru)"
      ],
      "metadata": {
        "colab": {
          "base_uri": "https://localhost:8080/"
        },
        "id": "_LPErfn053vt",
        "outputId": "59561f3f-9218-40c6-e3d2-bdfb8b39748a"
      },
      "execution_count": null,
      "outputs": [
        {
          "output_type": "stream",
          "name": "stdout",
          "text": [
            "Testing...\n",
            "2500/2500 [==============================] - 29s 12ms/step - loss: 0.4400 - accuracy: 0.7937\n",
            "Test score: 0.43995794653892517\n",
            "Test accuracy: 0.7937155961990356\n",
            "Accuracy: 79.37%\n",
            "Error rate: 0.20628440380096436\n"
          ]
        }
      ]
    },
    {
      "cell_type": "code",
      "source": [
        "\n",
        "from sklearn.metrics import accuracy_score,precision_score,recall_score,roc_auc_score, f1_score\n",
        "y_pred= model.predict(X_test_pad)\n",
        "y_pred_nom =(y_pred>0.5).astype(int)\n",
        "f1_gru = f1_score(y_test,y_pred_nom)\n",
        "roc_auc_gru= roc_auc_score(y_test, y_pred)\n",
        "accuracy_gru =accuracy_score(y_test, y_pred_nom)\n",
        "precision_gru = recall_score(y_test, y_pred_nom)\n",
        "recall_gru = recall_score(y_test, y_pred_nom)\n",
        "print(\"Precision:\",precision_gru)\n",
        "print(\"Accuracy:\",accuracy_gru)\n",
        "print(\"F1 Score:\",f1_gru)\n",
        "print(\"Recall score:\",recall_gru)\n",
        "print(\"AUC_ROC:\",roc_auc_gru)\n",
        "\n",
        "\n",
        "\n"
      ],
      "metadata": {
        "colab": {
          "base_uri": "https://localhost:8080/"
        },
        "id": "UQSV2oLy6w4V",
        "outputId": "18c12445-03f5-4494-ef64-a0c6056ccb96"
      },
      "execution_count": null,
      "outputs": [
        {
          "output_type": "stream",
          "name": "stdout",
          "text": [
            "10000/10000 [==============================] - 132s 13ms/step\n",
            "Precision: 0.7924189749915891\n",
            "Accuracy: 0.793715625\n",
            "F1 Score: 0.7939647988214253\n",
            "Recall score: 0.7924189749915891\n",
            "AUC_ROC: 0.8771521302352663\n"
          ]
        }
      ]
    },
    {
      "cell_type": "code",
      "source": [
        "\n",
        "metrics = ['F1-score', 'AUC-ROC', 'Precision', 'Recall']\n",
        "scores = [f1_gru, roc_auc_gru, precision_gru, recall_gru]\n",
        "colors = ['b', 'g', 'r', 'c']\n",
        "plt.bar(metrics, scores, color=colors)\n",
        "\n",
        "# Add labels and title\n",
        "plt.xlabel('Evaluation Metrics')\n",
        "plt.ylabel('Score')\n",
        "plt.title('Model Performance - GRU')\n",
        "\n",
        "# Set the y-axis limit to be between 0 and 1\n",
        "plt.ylim([0, 1])\n",
        "\n",
        "# Add text labels to each bar\n",
        "for i in range(len(metrics)):\n",
        "    plt.text(x=i, y=scores[i]+0.05, s=np.round(scores[i], 2), ha='center')\n",
        "\n",
        "# Display the chart\n",
        "plt.show()\n"
      ],
      "metadata": {
        "colab": {
          "base_uri": "https://localhost:8080/",
          "height": 472
        },
        "id": "z_9RTJkH57N9",
        "outputId": "4274d55c-873a-4441-e793-63bb1163bb9d"
      },
      "execution_count": null,
      "outputs": [
        {
          "output_type": "display_data",
          "data": {
            "text/plain": [
              "<Figure size 640x480 with 1 Axes>"
            ],
            "image/png": "[encoded data removed]"
          },
          "metadata": {}
        }
      ]
    },
    {
      "cell_type": "code",
      "source": [
        "\n",
        "sequence_input = Input(shape=(30), dtype='int32')\n",
        "embedded_sequences = embed_layer(sequence_input)\n",
        "layer = SpatialDropout1D(0.2)(embedded_sequences)\n",
        "layer = LSTM(64, dropout=0.2, recurrent_dropout=0.2, return_sequences=True)(layer)\n",
        "layer = LSTM(64, dropout=0.2, recurrent_dropout=0.2)(layer)\n",
        "layer = Dense(512, activation='relu')(layer)\n",
        "layer = Dropout(0.5)(layer)\n",
        "layer = Dense(512, activation='relu')(layer)\n",
        "output = Dense(1, activation='sigmoid')(layer)\n",
        "\n",
        "model = Model(sequence_input, output)"
      ],
      "metadata": {
        "colab": {
          "base_uri": "https://localhost:8080/"
        },
        "id": "pa90jfkRWC_w",
        "outputId": "85cf62dd-96c2-4f7a-8a58-baede2684321"
      },
      "execution_count": null,
      "outputs": [
        {
          "output_type": "stream",
          "name": "stderr",
          "text": [
            "WARNING:tensorflow:Layer lstm will not use cuDNN kernels since it doesn't meet the criteria. It will use a generic GPU kernel as fallback when running on GPU.\n",
            "WARNING:tensorflow:Layer lstm_1 will not use cuDNN kernels since it doesn't meet the criteria. It will use a generic GPU kernel as fallback when running on GPU.\n"
          ]
        }
      ]
    },
    {
      "cell_type": "code",
      "source": [
        "model.compile(optimizer= 'adam', loss='binary_crossentropy',metrics=['accuracy'])"
      ],
      "metadata": {
        "id": "cSiHYNrdW07Q"
      },
      "execution_count": null,
      "outputs": []
    },
    {
      "cell_type": "code",
      "source": [
        "\n",
        "history =model.fit(X_train_pad, y_train, batch_size=128, epochs=2, validation_data=(X_test_pad, y_test), verbose=2)"
      ],
      "metadata": {
        "colab": {
          "base_uri": "https://localhost:8080/"
        },
        "id": "P0ceas4CW4h4",
        "outputId": "7306b0cf-7eb6-4810-aa64-25fe503b32f4"
      },
      "execution_count": null,
      "outputs": [
        {
          "output_type": "stream",
          "name": "stdout",
          "text": [
            "Epoch 1/2\n",
            "10000/10000 - 2819s - loss: 0.5232 - accuracy: 0.7384 - val_loss: 0.4879 - val_accuracy: 0.7628 - 2819s/epoch - 282ms/step\n",
            "Epoch 2/2\n",
            "10000/10000 - 2711s - loss: 0.4965 - accuracy: 0.7565 - val_loss: 0.4800 - val_accuracy: 0.7678 - 2711s/epoch - 271ms/step\n"
          ]
        }
      ]
    },
    {
      "cell_type": "code",
      "source": [
        "print('Testing...')\n",
        "score, acc = model.evaluate(X_test_pad, y_test, batch_size=128)\n",
        "\n",
        "print('Test score:', score)\n",
        "print('Test accuracy:', acc)\n",
        "error_rate = 1-acc\n",
        "print(\"Error rate:\", error_rate)\n",
        "print(\"Accuracy: {0:.2%}\".format(acc))"
      ],
      "metadata": {
        "colab": {
          "base_uri": "https://localhost:8080/"
        },
        "id": "OSwiu6IgW_KQ",
        "outputId": "90f3fec0-8ebd-492c-c844-3379dce3bcd9"
      },
      "execution_count": null,
      "outputs": [
        {
          "output_type": "stream",
          "name": "stdout",
          "text": [
            "Testing...\n",
            "2500/2500 [==============================] - 56s 23ms/step - loss: 0.4800 - accuracy: 0.7678\n",
            "Test score: 0.4799777865409851\n",
            "Test accuracy: 0.7677937746047974\n",
            "Error rate: 0.23220622539520264\n",
            "Accuracy: 76.78%\n"
          ]
        }
      ]
    },
    {
      "cell_type": "code",
      "source": [
        "from sklearn.metrics import accuracy_score,precision_score,recall_score,roc_auc_score, f1_score\n",
        "y_pred= model.predict(X_test_pad)\n",
        "y_pred_nom =(y_pred>0.5).astype(int)\n",
        "f1_lstm = f1_score(y_test,y_pred_nom)\n",
        "roc_auc_lstm= roc_auc_score(y_test, y_pred)\n",
        "accuracy_lstm =accuracy_score(y_test, y_pred_nom)\n",
        "precision_lstm = recall_score(y_test, y_pred_nom)\n",
        "recall_lstm = recall_score(y_test, y_pred_nom)\n",
        "print(\"Precision:\",precision_lstm)\n",
        "print(\"Accuracy:\",accuracy_lstm)\n",
        "print(\"F1 Score:\",f1_lstm)\n",
        "print(\"Recall score:\",recall_lstm)\n",
        "print(\"AUC_ROC:\",roc_auc_lstm)\n"
      ],
      "metadata": {
        "colab": {
          "base_uri": "https://localhost:8080/"
        },
        "id": "AuxVk2JBXU4J",
        "outputId": "0893831c-96a0-44fe-89e3-122bbca3ba1e"
      },
      "execution_count": null,
      "outputs": [
        {
          "output_type": "stream",
          "name": "stdout",
          "text": [
            "10000/10000 [==============================] - 218s 22ms/step\n",
            "Precision: 0.7666816193787148\n",
            "Accuracy: 0.76779375\n",
            "F1 Score: 0.768098121215904\n",
            "Recall score: 0.7666816193787148\n",
            "AUC_ROC: 0.8509393459416553\n"
          ]
        }
      ]
    },
    {
      "cell_type": "code",
      "source": [
        "metrics = ['F1-score', 'AUC-ROC', 'Precision', 'Recall']\n",
        "scores = [f1_lstm, roc_auc_lstm, precision_lstm, recall_lstm]\n",
        "colors = ['b', 'g', 'r', 'c']\n",
        "plt.bar(metrics, scores, color=colors)\n",
        "\n",
        "# Add labels and title\n",
        "plt.xlabel('Evaluation Metrics')\n",
        "plt.ylabel('Score')\n",
        "plt.title('Model Performance - LSTM')\n",
        "\n",
        "# Set the y-axis limit to be between 0 and 1\n",
        "plt.ylim([0, 1])\n",
        "\n",
        "# Add text labels to each bar\n",
        "for i in range(len(metrics)):\n",
        "    plt.text(x=i, y=scores[i]+0.05, s=np.round(scores[i], 2), ha='center')\n",
        "\n",
        "# Display the chart\n",
        "plt.show()"
      ],
      "metadata": {
        "colab": {
          "base_uri": "https://localhost:8080/",
          "height": 472
        },
        "id": "0uXzs5A8Xxip",
        "outputId": "e1330937-ba1c-4148-807c-79e6b37c9bab"
      },
      "execution_count": null,
      "outputs": [
        {
          "output_type": "display_data",
          "data": {
            "text/plain": [
              "<Figure size 640x480 with 1 Axes>"
            ],
            "image/png": "[encoded data removed]"
          },
          "metadata": {}
        }
      ]
    },
    {
      "cell_type": "markdown",
      "source": [
        "Introduction \n",
        "\n",
        "Recurrent Neural Networks (RNNs) are a powerful class of neural networks designed specifically to model sequential data. Their unique ability to incorporate previous inputs into the current output makes them unparalleled in their predictive capabilities for sequential data. In contrast, feedforward neural networks lack memory of previous inputs, rendering them ineffective in predicting future events. \n",
        "\n",
        "An extension of RNNs is the Long Short-Term Memory (LSTM) network, which introduces memory cells with three distinct gates: input, forget, and output gates. These gates control the flow of information, allowing new information to enter through the input gate, deleting information that is irrelevant through the forget gate, and regulating the output of the current timestep through the output gate. The use of the sigmoid activation function in LSTM models enables efficient backpropagation, while simultaneously addressing the problem of vanishing gradients through gradient clipping. \n",
        "\n",
        "Another type of RNN that addresses the vanishing gradient problem is the Gated Recurrent Unit (GRU). GRUs have advantages over LSTMs in terms of computational efficiency and memory usage, but LSTMs outperform GRUs on datasets with longer sequences. GRUs employ two gates, the update and reset gates, which allow them to selectively pass information from previous timesteps down the chain of events to make more accurate predictions. \n",
        "\n",
        "Word embedding is a set of language modelling and feature learning techniques used to map words or phrases to real numbers. These word embeddings are used as inputs for LSTM and GRU models during training and testing, which further enhances their predictive capabilities. \n",
        "\n",
        "Objective: \n",
        "\n",
        "In this experiment we will explore the LSTM and GRU by comparing and contrasting which model is better than the other in the context of sentiment analysis as a sequence-to-one classification problem using various evaluation metrics.  \n",
        "\n",
        "  \n",
        "\n",
        "Data preprocessing \n",
        "\n",
        "The first step to implement a solution is to acquire data. In this case a dataset was readily available and provided for this experiment. The use of data frames to load and store this data proved to be efficient as it was easier to access this data upon request. To be explicit, this data was stored in a temporary structure defined as tmp_store which is a data frame.  As part of preprocessing, we used a function defined as preprocess_text which takes in a text (“sequence”) and executed processes such as removing punctuations, digits, stop words, URLS and HTML tags and converting every character to lower case in the sequence. Snowball Stemmer was used to reduce the number of unique words that need to be processed. Reducing words to their base form, variations of the same words (such as “running”, “runs”, “ran”) can be treated as the same word, which can improve the accuracy and efficiency of the text analysis.  \n",
        "\n",
        "Tokenizing the text is used as building a vocabulary of words or subwords, encoding the text as sequences of integers and padding the sequences to a fixed length.  \n",
        "\n",
        " \n",
        "\n",
        "Pre-training  \n",
        "\n",
        "Before we train or build our model we had to download and extract the ‘glove.6B.zip’ file which enabled us to use the Glove model. The glove file that was downloaded and extracted is a pre-trained word embedding model that is used to learn word vectors that captures the semantic and relationships between words. A common usage of these vectors is sentiment analysis which is what is required in this experiment. \n",
        "\n",
        "gl_em_dict is a function that was used to create a dictionary of word embeddings using pre-trained Glove vectors from a text file. This dictionary enables mapping of each word in the Glove pre-trained model to its corresponding vector representation. \n",
        "\n",
        " \n",
        "\n",
        "em_matrix  : This matrix contains vector representation of each word in the vocabulary filled with zeros if a word does not have a corresponding glove representation and assigned values if it does. \n",
        "\n",
        "The embedded using embedding from tensorflow to convert em_matrix into weights that will be used by the LSTM and GRU models. \n",
        "\n",
        "  \n",
        "\n",
        " \n",
        "\n",
        "Training  \n",
        "\n",
        "LSTM: In building and training this model we used an embedding layer, two LSTM layers and a several fully connected Dense layers. \n",
        "\n",
        "The architecture of the model is as follows: \n",
        "\n",
        "The input layer receives a sequence of integer values. \n",
        "\n",
        "The input sequence is fed into an embedding layer which performs various functions such as converting integer-coded inputs into dense vectors of fixed size where each integer corresponds to the word in the vocabulary. \n",
        "\n",
        "The SpatialDropout1D layers applies dropout regularization to the embedding and prevents overfitting. \n",
        "\n",
        "The two LSTMs both have 64 units each. With the first LSTM layer returning a full sequence of outputs for each time step and the second layer only focusing on returning the final output. \n",
        "\n",
        "Learning is improved by the use of the two Dense layer and the ReLu activation. \n",
        "\n",
        "In the output the use of the sigmoid activation is used to produce a binary classification output which was proven to be useful over the softmax activation function which is used to produce a probability. \n",
        "\n",
        "GRU: In building and training this model we used an embedding layer and a Gated Recurrent Unit layer. \n",
        "\n",
        "The architecture of the model is as follows: \n",
        "\n",
        "The model is built using the Sequential API in Keras which allows for easy layer-by-layer construction of neural networks. \n",
        "\n",
        "The first layer of this model is an embedding layer and this learns a dense representation of the input words in the form of word embeddings. \n",
        "\n",
        "The GRU layer is then added on top of the embedding layer which processes the input sequence and learns to long term dependencies in the data. \n",
        "\n",
        "The Dense layer in the output is a single output unit and the sigmoid activation function is used to produce a binary classification prediction. \n",
        "\n",
        "Both the LSTM and GRU use the compile function to optimize and evaluation metric “accuracy” to monitor during training. The “fit” method takes the training data as input and updates the model parameters to minimize the loss on the training data.  \n",
        "\n",
        " \n",
        "\n",
        " \n",
        "\n",
        "Evaluation  \n",
        "\n",
        "To evaluate these models for appropriation comparison, the implementation of various evaluation metrics was deemed necessary. The evaluation metrices that are implemented are the F-1 score, precision_score, accuracy_score, recall_score and  auc_roc. \n",
        "\n",
        "F1-score and AUC-ROC are measures of the overall performance of a binary classification model, while precision_score and recall_score are measures of the model's performance on positive examples. These metrics are useful for evaluating the performance of a model and for comparing different models. \n",
        "\n",
        "With the use of all these measures of performance we will then be to evaluate and conclude which is the optimal model without being baised over one evaluation metric’s findings. \n",
        "\n",
        " \n",
        "\n",
        "Conclusion \n",
        "\n",
        "\n",
        "These results were taken after running each model for two epochs. Since the GRU has evaluation metrices that are greater than the LSTMs we will conclude that for this Experiment the GRU proved to be the optimal model. In addition the GRU model trains faster than the LSTM model using the standard runtime in google colab. \n",
        "\n",
        " \n",
        "\n",
        " \n",
        "\n",
        " \n",
        "\n",
        " "
      ],
      "metadata": {
        "id": "OB6dGs2Pvztk"
      }
    },
    {
      "cell_type": "markdown",
      "source": [],
      "metadata": {
        "id": "bJhX1pjbv_nr"
      }
    }
  ]
}